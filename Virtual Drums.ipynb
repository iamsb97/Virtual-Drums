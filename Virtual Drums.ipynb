{
 "cells": [
  {
   "cell_type": "markdown",
   "metadata": {},
   "source": [
    "# Placing Drums in Video Feed"
   ]
  },
  {
   "cell_type": "code",
   "execution_count": 1,
   "metadata": {},
   "outputs": [
    {
     "name": "stdout",
     "output_type": "stream",
     "text": [
      "pygame 2.0.1 (SDL 2.0.14, Python 3.7.10)\n",
      "Hello from the pygame community. https://www.pygame.org/contribute.html\n"
     ]
    }
   ],
   "source": [
    "import cv2\n",
    "import numpy as np\n",
    "import mediapipe as mp\n",
    "import imutils\n",
    "import pygame\n",
    "import pymunk"
   ]
  },
  {
   "cell_type": "code",
   "execution_count": 2,
   "metadata": {},
   "outputs": [],
   "source": [
    "floor_tom = cv2.imread(\"tom-tom.jpg\")\n",
    "floor_tom = imutils.resize(floor_tom, height=220)\n",
    "    \n",
    "medium_tom = cv2.imread(\"bass.jpg\")\n",
    "medium_tom = imutils.resize(medium_tom, height = 220)\n",
    "                        \n",
    "snare = cv2.imread(\"snare.jpg\")\n",
    "snare = imutils.resize(snare, height = 220)\n",
    "snare = imutils.rotate(snare, 45)\n",
    "\n",
    "cymbal = cv2.imread(\"cymbal.jpg\")\n",
    "cymbal = cv2.resize(cymbal, (220,220))\n",
    "cymbal = imutils.rotate(cymbal, -45)\n",
    "   "
   ]
  },
  {
   "cell_type": "code",
   "execution_count": 3,
   "metadata": {},
   "outputs": [],
   "source": [
    "def remove_bg(image):\n",
    "    img = np.zeros(image.shape, dtype = np.uint8)\n",
    "    img.fill(255)\n",
    "    foreground = cv2.absdiff(image, img)\n",
    "    foreground[foreground > 5] = image[foreground > 5]\n",
    "    return foreground"
   ]
  },
  {
   "cell_type": "code",
   "execution_count": 4,
   "metadata": {},
   "outputs": [],
   "source": [
    "space = pymunk.Space()\n",
    "\n",
    "# Defined 4 static segments to be represented by 4 drum pieces giving it collision_type 1\n",
    "\n",
    "cym_body = pymunk.Body(body_type=pymunk.Body.STATIC)\n",
    "cym_line = pymunk.Segment(cym_body, (85, 335), (225, 475), 5)\n",
    "cym_line.collision_type = 1\n",
    "tomtom_body = pymunk.Body(body_type=pymunk.Body.STATIC)\n",
    "tomtom_line = pymunk.Segment(tomtom_body, (280, 510), (440, 510), 5)\n",
    "tomtom_line.collision_type = 1\n",
    "bass_body = pymunk.Body(body_type=pymunk.Body.STATIC)\n",
    "bass_line = pymunk.Segment(bass_body, (520, 510), (680, 510), 5)\n",
    "bass_line.collision_type = 1\n",
    "snare_body = pymunk.Body(body_type=pymunk.Body.STATIC)\n",
    "snare_line = pymunk.Segment(snare_body, (735, 475), (875, 335), 5)\n",
    "snare_line.collision_type = 1\n",
    "\n",
    "space.add(cym_body, cym_line)\n",
    "space.add(tomtom_body, tomtom_line)\n",
    "space.add(bass_body, bass_line)\n",
    "space.add(snare_body, snare_line)"
   ]
  },
  {
   "cell_type": "code",
   "execution_count": 5,
   "metadata": {},
   "outputs": [],
   "source": [
    "# Defined two circular pymunk bodies to be represented by fingers giving it collision_type 2\n",
    "\n",
    "radius = 20\n",
    "\n",
    "left_index = pymunk.Body(10, 1666, body_type=pymunk.Body.KINEMATIC)\n",
    "left_shape = pymunk.Circle(left_index ,radius)\n",
    "left_shape.collision_type = 2\n",
    "space.add(left_index, left_shape)\n",
    "\n",
    "right_index = pymunk.Body(10, 1666, body_type=pymunk.Body.KINEMATIC)\n",
    "right_shape = pymunk.Circle(right_index, radius)\n",
    "right_shape.collision_type = 2\n",
    "space.add(right_index, right_shape)"
   ]
  },
  {
   "cell_type": "code",
   "execution_count": 6,
   "metadata": {},
   "outputs": [],
   "source": [
    "# Defined method for begin attribute of pymunk collision handler\n",
    "\n",
    "def collision(arbiter, space, data):\n",
    "    if (arbiter.shapes[0].a == cym_line.a):\n",
    "        if (arbiter.shapes[1].body.velocity[1] > 0):\n",
    "            sound = pygame.mixer.Sound(sounds[0])\n",
    "            sound.set_volume(arbiter.total_ke)\n",
    "            sound.play()\n",
    "    elif (arbiter.shapes[0].a == tomtom_line.a):\n",
    "        if (arbiter.shapes[1].body.velocity[1] > 0):\n",
    "            sound = pygame.mixer.Sound(sounds[1])\n",
    "            sound.set_volume(arbiter.total_ke)\n",
    "            sound.play()\n",
    "    elif (arbiter.shapes[0].a == bass_line.a):\n",
    "        if (arbiter.shapes[1].body.velocity[1] > 0):\n",
    "            sound = pygame.mixer.Sound(sounds[2])\n",
    "            sound.set_volume(arbiter.total_ke)\n",
    "            sound.play()\n",
    "    elif (arbiter.shapes[0].a == snare_line.a):\n",
    "        if (arbiter.shapes[1].body.velocity[1] > 0):\n",
    "            sound = pygame.mixer.Sound(sounds[3])\n",
    "            sound.set_volume(arbiter.total_ke)\n",
    "            sound.play()\n",
    "    return True"
   ]
  },
  {
   "cell_type": "code",
   "execution_count": 7,
   "metadata": {
    "scrolled": true
   },
   "outputs": [],
   "source": [
    "pygame.mixer.pre_init(22050, -16, 2, 512)\n",
    "pygame.init()\n",
    "pygame.mixer.quit()\n",
    "pygame.mixer.init(22050, -16, 2, 1024)\n",
    "\n",
    "mpHands = mp.solutions.hands\n",
    "hands = mpHands.Hands()\n",
    "mpDraw = mp.solutions.drawing_utils\n",
    "\n",
    "cx1 , cy1, cx2, cy2 = 0, 0, 0, 0\n",
    "\n",
    "sounds = ['Crash-Cymbal-Hit.mp3','Floor-Tom-Drum.mp3', 'Medium-Tom-Drum.mp3', 'Snare-Drum.mp3']\n",
    "\n",
    "feed = cv2.VideoCapture(0)\n",
    "\n",
    "while(True):\n",
    "    \n",
    "    # Capturing Frames\n",
    "    ret, frame = feed.read()\n",
    "    frame = imutils.resize(frame, width=960)\n",
    "    frame = cv2.flip(frame,1)\n",
    "    frameRGB = cv2.cvtColor(frame, cv2.COLOR_BGR2RGB)  \n",
    "    \n",
    "    # Placing Drum inside the frame\n",
    "    \n",
    "    floor_tom = remove_bg(floor_tom)\n",
    "    medium_tom = remove_bg(medium_tom)\n",
    "    snare = remove_bg(snare)\n",
    "    cymbal = remove_bg(cymbal)\n",
    "    \n",
    "    height, width, _ = frame.shape\n",
    "    frame[450:670, 250:470][floor_tom > 5] = floor_tom[floor_tom > 5]\n",
    "    frame[450:670, 490:710][medium_tom > 5] = medium_tom[medium_tom > 5]\n",
    "    frame[320:540, 720:940][snare > 5] = snare[snare > 5]\n",
    "    frame[320:540, 20:240][cymbal > 5] = cymbal[cymbal > 5]\n",
    "    \n",
    "    handler = space.add_collision_handler(1,2)\n",
    "    \n",
    "    # Hand Tracking \n",
    "    results = hands.process(frameRGB)\n",
    "\n",
    "    if results.multi_hand_landmarks:\n",
    "        for index, handLms in enumerate(results.multi_hand_landmarks):\n",
    "            \n",
    "            # Left Right detection using mediapipe multi handedness\n",
    "            if results.multi_handedness[index]:\n",
    "                \n",
    "                if results.multi_handedness[index].classification[0].label == 'Left':\n",
    "                    for i, lm in enumerate(handLms.landmark):\n",
    "                        if i == 8:\n",
    "                            cx1, cy1 = int(lm.x*width), int(lm.y*height)\n",
    "                            left_vel_x = cx1 - left_index.position[0]\n",
    "                            left_vel_y = cy1 - left_index.position[1]\n",
    "                            left_index.velocity = 20.0*left_vel_x, 20.0*left_vel_y\n",
    "                            \n",
    "                if results.multi_handedness[index].classification[0].label == 'Right':\n",
    "                    for i, lm in enumerate(handLms.landmark):\n",
    "                        if i == 8:\n",
    "                            cx2, cy2 = int(lm.x*width), int(lm.y*height)\n",
    "                            right_vel_x = cx2 - right_index.position[0]\n",
    "                            right_vel_y = cy2 - right_index.position[1]\n",
    "                            right_index.velocity = 20.0*right_vel_x, 20.0*right_vel_y\n",
    "            \n",
    "            \n",
    "            # Added pymunk collision _handler to the space for collision type 1 (segment) and 2 (fingers)\n",
    "            \n",
    "            handler.begin = collision\n",
    "            space.step(0.02)\n",
    "    \n",
    "    cv2.imshow('frame', frame)\n",
    "    \n",
    "    # Close if 'q' key is pressed\n",
    "    if cv2.waitKey(1) & 0xFF == ord('q'):\n",
    "        break\n",
    "    \n",
    "feed.release()\n",
    "cv2.destroyAllWindows()\n"
   ]
  },
  {
   "cell_type": "code",
   "execution_count": null,
   "metadata": {},
   "outputs": [],
   "source": []
  }
 ],
 "metadata": {
  "kernelspec": {
   "display_name": "Python 3",
   "language": "python",
   "name": "python3"
  },
  "language_info": {
   "codemirror_mode": {
    "name": "ipython",
    "version": 3
   },
   "file_extension": ".py",
   "mimetype": "text/x-python",
   "name": "python",
   "nbconvert_exporter": "python",
   "pygments_lexer": "ipython3",
   "version": "3.7.10"
  }
 },
 "nbformat": 4,
 "nbformat_minor": 4
}
